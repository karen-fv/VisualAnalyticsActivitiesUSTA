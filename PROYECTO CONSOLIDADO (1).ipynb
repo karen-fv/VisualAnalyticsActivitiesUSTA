{
 "cells": [
  {
   "cell_type": "markdown",
   "metadata": {},
   "source": [
    "# DELITOS EN COLOMBIA PARA EL AÑO 2020"
   ]
  },
  {
   "cell_type": "markdown",
   "metadata": {},
   "source": [
    "\n",
    "#### Autores:\n",
    "1. Karen Vanessa Fonseca Vela\n",
    "2. Sergio Alfredo Blanco Soler\n",
    "3. Daniel Esteban Gómez Rodríguez\n"
   ]
  },
  {
   "cell_type": "code",
   "execution_count": 2,
   "metadata": {},
   "outputs": [],
   "source": [
    "import pandas as pd\n",
    "import numpy as np\n",
    "import seaborn as sns\n",
    "import matplotlib.pyplot as plt\n",
    "pd.set_option('display.max_columns', None) #Mostrar todas las columnas"
   ]
  },
  {
   "cell_type": "markdown",
   "metadata": {},
   "source": [
    "# Base de Datos: Delitos 2020\n",
    "\n",
    "Datos extraídos de la página oficial de la Policía Nacional de Colombia, la base delitos 2020 contienen información relacionada con los delitos de: homicidios, hurto de motocicletas, delitos sexuales y violencia intrafamiliar; dicha información se encuentra desagregada por variables de tiempo, modo y lugar.\n",
    "\n",
    "Los datos publicados corresponden a consolidados de los Delitos de Impacto del país, así mismo la Actividad Operativa realizada por la Policía Nacional. Para \n",
    "\n",
    "Fuente: https://www.policia.gov.co/revistacriminalidad, donde encontrara los totales históricos por departamentos. Información extraída del Sistema de Información Estadístico, Delincuencial Contravencional y Operativo de la Policía Nacional – SIEDCO. Cifras sujetas a variación, en proceso de unificación con otros organismos del Estado.\n",
    "\n",
    "Reporte delitos  año : 2020"
   ]
  },
  {
   "cell_type": "markdown",
   "metadata": {},
   "source": [
    "# Importar datos\n",
    "\n",
    "Datos extraídos de la página oficial de la policía nacional de colombia  \"delitos de impacto\"\n",
    "\n",
    "Reporte delitos  año : 2020\n",
    "\n",
    "Fuente:https://www.policia.gov.co/grupo-informaci%C3%B3n-criminalidad/estadistica-delictiva  \n"
   ]
  },
  {
   "cell_type": "code",
   "execution_count": 3,
   "metadata": {},
   "outputs": [
    {
     "data": {
      "text/html": [
       "<div>\n",
       "<style scoped>\n",
       "    .dataframe tbody tr th:only-of-type {\n",
       "        vertical-align: middle;\n",
       "    }\n",
       "\n",
       "    .dataframe tbody tr th {\n",
       "        vertical-align: top;\n",
       "    }\n",
       "\n",
       "    .dataframe thead th {\n",
       "        text-align: right;\n",
       "    }\n",
       "</style>\n",
       "<table border=\"1\" class=\"dataframe\">\n",
       "  <thead>\n",
       "    <tr style=\"text-align: right;\">\n",
       "      <th></th>\n",
       "      <th>DEPARTAMENTO</th>\n",
       "      <th>MUNICIPIO</th>\n",
       "      <th>CODIGO DANE</th>\n",
       "      <th>ARMAS MEDIOS</th>\n",
       "      <th>FECHA HECHO</th>\n",
       "      <th>MES</th>\n",
       "      <th>DIA</th>\n",
       "      <th>GENERO</th>\n",
       "      <th>AGRUPA EDAD PERSONA</th>\n",
       "      <th>CANTIDAD</th>\n",
       "      <th>DELITO</th>\n",
       "    </tr>\n",
       "  </thead>\n",
       "  <tbody>\n",
       "    <tr>\n",
       "      <th>0</th>\n",
       "      <td>ANTIOQUIA</td>\n",
       "      <td>ABEJORRAL</td>\n",
       "      <td>5002000</td>\n",
       "      <td>SIN EMPLEO DE ARMAS</td>\n",
       "      <td>1/01/2020</td>\n",
       "      <td>ENERO</td>\n",
       "      <td>1</td>\n",
       "      <td>MASCULINO</td>\n",
       "      <td>ADULTOS</td>\n",
       "      <td>1</td>\n",
       "      <td>VIOLENCIA INTRAFAMILIAR</td>\n",
       "    </tr>\n",
       "    <tr>\n",
       "      <th>1</th>\n",
       "      <td>ANTIOQUIA</td>\n",
       "      <td>AMALFI</td>\n",
       "      <td>5031000</td>\n",
       "      <td>ARMA BLANCA / CORTOPUNZANTE</td>\n",
       "      <td>1/01/2020</td>\n",
       "      <td>ENERO</td>\n",
       "      <td>1</td>\n",
       "      <td>FEMENINO</td>\n",
       "      <td>ADULTOS</td>\n",
       "      <td>1</td>\n",
       "      <td>VIOLENCIA INTRAFAMILIAR</td>\n",
       "    </tr>\n",
       "    <tr>\n",
       "      <th>2</th>\n",
       "      <td>ANTIOQUIA</td>\n",
       "      <td>ANORÍ</td>\n",
       "      <td>5040000</td>\n",
       "      <td>CONTUNDENTES</td>\n",
       "      <td>1/01/2020</td>\n",
       "      <td>ENERO</td>\n",
       "      <td>1</td>\n",
       "      <td>FEMENINO</td>\n",
       "      <td>ADULTOS</td>\n",
       "      <td>1</td>\n",
       "      <td>VIOLENCIA INTRAFAMILIAR</td>\n",
       "    </tr>\n",
       "    <tr>\n",
       "      <th>3</th>\n",
       "      <td>ANTIOQUIA</td>\n",
       "      <td>ARBOLETES</td>\n",
       "      <td>5051000</td>\n",
       "      <td>CONTUNDENTES</td>\n",
       "      <td>1/01/2020</td>\n",
       "      <td>ENERO</td>\n",
       "      <td>1</td>\n",
       "      <td>FEMENINO</td>\n",
       "      <td>ADULTOS</td>\n",
       "      <td>1</td>\n",
       "      <td>VIOLENCIA INTRAFAMILIAR</td>\n",
       "    </tr>\n",
       "    <tr>\n",
       "      <th>4</th>\n",
       "      <td>ANTIOQUIA</td>\n",
       "      <td>BARBOSA</td>\n",
       "      <td>5079000</td>\n",
       "      <td>ARMA BLANCA / CORTOPUNZANTE</td>\n",
       "      <td>1/01/2020</td>\n",
       "      <td>ENERO</td>\n",
       "      <td>1</td>\n",
       "      <td>FEMENINO</td>\n",
       "      <td>ADULTOS</td>\n",
       "      <td>1</td>\n",
       "      <td>VIOLENCIA INTRAFAMILIAR</td>\n",
       "    </tr>\n",
       "    <tr>\n",
       "      <th>5</th>\n",
       "      <td>ANTIOQUIA</td>\n",
       "      <td>BARBOSA</td>\n",
       "      <td>5079000</td>\n",
       "      <td>ARMA BLANCA / CORTOPUNZANTE</td>\n",
       "      <td>1/01/2020</td>\n",
       "      <td>ENERO</td>\n",
       "      <td>1</td>\n",
       "      <td>FEMENINO</td>\n",
       "      <td>MENORES</td>\n",
       "      <td>1</td>\n",
       "      <td>VIOLENCIA INTRAFAMILIAR</td>\n",
       "    </tr>\n",
       "    <tr>\n",
       "      <th>6</th>\n",
       "      <td>ANTIOQUIA</td>\n",
       "      <td>BARBOSA</td>\n",
       "      <td>5079000</td>\n",
       "      <td>ARMA BLANCA / CORTOPUNZANTE</td>\n",
       "      <td>1/01/2020</td>\n",
       "      <td>ENERO</td>\n",
       "      <td>1</td>\n",
       "      <td>MASCULINO</td>\n",
       "      <td>ADOLESCENTES</td>\n",
       "      <td>1</td>\n",
       "      <td>VIOLENCIA INTRAFAMILIAR</td>\n",
       "    </tr>\n",
       "    <tr>\n",
       "      <th>7</th>\n",
       "      <td>ANTIOQUIA</td>\n",
       "      <td>BARBOSA</td>\n",
       "      <td>5079000</td>\n",
       "      <td>ARMA BLANCA / CORTOPUNZANTE</td>\n",
       "      <td>1/01/2020</td>\n",
       "      <td>ENERO</td>\n",
       "      <td>1</td>\n",
       "      <td>FEMENINO</td>\n",
       "      <td>ADULTOS</td>\n",
       "      <td>1</td>\n",
       "      <td>VIOLENCIA INTRAFAMILIAR</td>\n",
       "    </tr>\n",
       "    <tr>\n",
       "      <th>8</th>\n",
       "      <td>ANTIOQUIA</td>\n",
       "      <td>BARBOSA</td>\n",
       "      <td>5079000</td>\n",
       "      <td>CONTUNDENTES</td>\n",
       "      <td>1/01/2020</td>\n",
       "      <td>ENERO</td>\n",
       "      <td>1</td>\n",
       "      <td>FEMENINO</td>\n",
       "      <td>ADULTOS</td>\n",
       "      <td>1</td>\n",
       "      <td>VIOLENCIA INTRAFAMILIAR</td>\n",
       "    </tr>\n",
       "    <tr>\n",
       "      <th>9</th>\n",
       "      <td>ANTIOQUIA</td>\n",
       "      <td>BELLO</td>\n",
       "      <td>5088000</td>\n",
       "      <td>CONTUNDENTES</td>\n",
       "      <td>1/01/2020</td>\n",
       "      <td>ENERO</td>\n",
       "      <td>1</td>\n",
       "      <td>FEMENINO</td>\n",
       "      <td>ADULTOS</td>\n",
       "      <td>1</td>\n",
       "      <td>VIOLENCIA INTRAFAMILIAR</td>\n",
       "    </tr>\n",
       "    <tr>\n",
       "      <th>10</th>\n",
       "      <td>ANTIOQUIA</td>\n",
       "      <td>BELLO</td>\n",
       "      <td>5088000</td>\n",
       "      <td>CONTUNDENTES</td>\n",
       "      <td>1/01/2020</td>\n",
       "      <td>ENERO</td>\n",
       "      <td>1</td>\n",
       "      <td>FEMENINO</td>\n",
       "      <td>ADULTOS</td>\n",
       "      <td>1</td>\n",
       "      <td>VIOLENCIA INTRAFAMILIAR</td>\n",
       "    </tr>\n",
       "    <tr>\n",
       "      <th>11</th>\n",
       "      <td>ANTIOQUIA</td>\n",
       "      <td>BELLO</td>\n",
       "      <td>5088000</td>\n",
       "      <td>CONTUNDENTES</td>\n",
       "      <td>1/01/2020</td>\n",
       "      <td>ENERO</td>\n",
       "      <td>1</td>\n",
       "      <td>MASCULINO</td>\n",
       "      <td>ADULTOS</td>\n",
       "      <td>1</td>\n",
       "      <td>VIOLENCIA INTRAFAMILIAR</td>\n",
       "    </tr>\n",
       "    <tr>\n",
       "      <th>12</th>\n",
       "      <td>ANTIOQUIA</td>\n",
       "      <td>BELLO</td>\n",
       "      <td>5088000</td>\n",
       "      <td>CONTUNDENTES</td>\n",
       "      <td>1/01/2020</td>\n",
       "      <td>ENERO</td>\n",
       "      <td>1</td>\n",
       "      <td>FEMENINO</td>\n",
       "      <td>ADULTOS</td>\n",
       "      <td>1</td>\n",
       "      <td>VIOLENCIA INTRAFAMILIAR</td>\n",
       "    </tr>\n",
       "    <tr>\n",
       "      <th>13</th>\n",
       "      <td>ANTIOQUIA</td>\n",
       "      <td>BELLO</td>\n",
       "      <td>5088000</td>\n",
       "      <td>CONTUNDENTES</td>\n",
       "      <td>1/01/2020</td>\n",
       "      <td>ENERO</td>\n",
       "      <td>1</td>\n",
       "      <td>FEMENINO</td>\n",
       "      <td>ADULTOS</td>\n",
       "      <td>1</td>\n",
       "      <td>VIOLENCIA INTRAFAMILIAR</td>\n",
       "    </tr>\n",
       "    <tr>\n",
       "      <th>14</th>\n",
       "      <td>ANTIOQUIA</td>\n",
       "      <td>CAICEDO</td>\n",
       "      <td>5125000</td>\n",
       "      <td>SIN EMPLEO DE ARMAS</td>\n",
       "      <td>1/01/2020</td>\n",
       "      <td>ENERO</td>\n",
       "      <td>1</td>\n",
       "      <td>FEMENINO</td>\n",
       "      <td>ADULTOS</td>\n",
       "      <td>1</td>\n",
       "      <td>VIOLENCIA INTRAFAMILIAR</td>\n",
       "    </tr>\n",
       "  </tbody>\n",
       "</table>\n",
       "</div>"
      ],
      "text/plain": [
       "   DEPARTAMENTO  MUNICIPIO CODIGO DANE                 ARMAS MEDIOS  \\\n",
       "0     ANTIOQUIA  ABEJORRAL     5002000          SIN EMPLEO DE ARMAS   \n",
       "1     ANTIOQUIA     AMALFI     5031000  ARMA BLANCA / CORTOPUNZANTE   \n",
       "2     ANTIOQUIA      ANORÍ     5040000                 CONTUNDENTES   \n",
       "3     ANTIOQUIA  ARBOLETES     5051000                 CONTUNDENTES   \n",
       "4     ANTIOQUIA    BARBOSA     5079000  ARMA BLANCA / CORTOPUNZANTE   \n",
       "5     ANTIOQUIA    BARBOSA     5079000  ARMA BLANCA / CORTOPUNZANTE   \n",
       "6     ANTIOQUIA    BARBOSA     5079000  ARMA BLANCA / CORTOPUNZANTE   \n",
       "7     ANTIOQUIA    BARBOSA     5079000  ARMA BLANCA / CORTOPUNZANTE   \n",
       "8     ANTIOQUIA    BARBOSA     5079000                 CONTUNDENTES   \n",
       "9     ANTIOQUIA      BELLO     5088000                 CONTUNDENTES   \n",
       "10    ANTIOQUIA      BELLO     5088000                 CONTUNDENTES   \n",
       "11    ANTIOQUIA      BELLO     5088000                 CONTUNDENTES   \n",
       "12    ANTIOQUIA      BELLO     5088000                 CONTUNDENTES   \n",
       "13    ANTIOQUIA      BELLO     5088000                 CONTUNDENTES   \n",
       "14    ANTIOQUIA    CAICEDO     5125000          SIN EMPLEO DE ARMAS   \n",
       "\n",
       "   FECHA HECHO    MES  DIA     GENERO AGRUPA EDAD PERSONA  CANTIDAD  \\\n",
       "0    1/01/2020  ENERO    1  MASCULINO             ADULTOS         1   \n",
       "1    1/01/2020  ENERO    1   FEMENINO             ADULTOS         1   \n",
       "2    1/01/2020  ENERO    1   FEMENINO             ADULTOS         1   \n",
       "3    1/01/2020  ENERO    1   FEMENINO             ADULTOS         1   \n",
       "4    1/01/2020  ENERO    1   FEMENINO             ADULTOS         1   \n",
       "5    1/01/2020  ENERO    1   FEMENINO             MENORES         1   \n",
       "6    1/01/2020  ENERO    1  MASCULINO        ADOLESCENTES         1   \n",
       "7    1/01/2020  ENERO    1   FEMENINO             ADULTOS         1   \n",
       "8    1/01/2020  ENERO    1   FEMENINO             ADULTOS         1   \n",
       "9    1/01/2020  ENERO    1   FEMENINO             ADULTOS         1   \n",
       "10   1/01/2020  ENERO    1   FEMENINO             ADULTOS         1   \n",
       "11   1/01/2020  ENERO    1  MASCULINO             ADULTOS         1   \n",
       "12   1/01/2020  ENERO    1   FEMENINO             ADULTOS         1   \n",
       "13   1/01/2020  ENERO    1   FEMENINO             ADULTOS         1   \n",
       "14   1/01/2020  ENERO    1   FEMENINO             ADULTOS         1   \n",
       "\n",
       "                     DELITO  \n",
       "0   VIOLENCIA INTRAFAMILIAR  \n",
       "1   VIOLENCIA INTRAFAMILIAR  \n",
       "2   VIOLENCIA INTRAFAMILIAR  \n",
       "3   VIOLENCIA INTRAFAMILIAR  \n",
       "4   VIOLENCIA INTRAFAMILIAR  \n",
       "5   VIOLENCIA INTRAFAMILIAR  \n",
       "6   VIOLENCIA INTRAFAMILIAR  \n",
       "7   VIOLENCIA INTRAFAMILIAR  \n",
       "8   VIOLENCIA INTRAFAMILIAR  \n",
       "9   VIOLENCIA INTRAFAMILIAR  \n",
       "10  VIOLENCIA INTRAFAMILIAR  \n",
       "11  VIOLENCIA INTRAFAMILIAR  \n",
       "12  VIOLENCIA INTRAFAMILIAR  \n",
       "13  VIOLENCIA INTRAFAMILIAR  \n",
       "14  VIOLENCIA INTRAFAMILIAR  "
      ]
     },
     "execution_count": 3,
     "metadata": {},
     "output_type": "execute_result"
    }
   ],
   "source": [
    "df_delitos = pd.read_csv('delitos_2020 (2).csv',\n",
    "                         encoding='latin-1',\n",
    "                         sep = ';', decimal=',',\n",
    "                              dtype={\n",
    "                     'CODIGO DANE': str\n",
    "                 }\n",
    "                        )\n",
    "\n",
    "df_delitos.head(15)"
   ]
  },
  {
   "cell_type": "markdown",
   "metadata": {},
   "source": [
    "# Limpieza de datos\n"
   ]
  },
  {
   "cell_type": "markdown",
   "metadata": {},
   "source": [
    "Se revisó la dimensión de la base de datos, adicionalmente el tipo de variable y la cantidad que existe de cada una."
   ]
  },
  {
   "cell_type": "code",
   "execution_count": 4,
   "metadata": {},
   "outputs": [
    {
     "name": "stdout",
     "output_type": "stream",
     "text": [
      "delitos\n",
      "Filas:  168598\n",
      "Columnas:  11\n",
      "<class 'pandas.core.frame.DataFrame'>\n",
      "RangeIndex: 168598 entries, 0 to 168597\n",
      "Data columns (total 11 columns):\n",
      " #   Column               Non-Null Count   Dtype \n",
      "---  ------               --------------   ----- \n",
      " 0   DEPARTAMENTO         168598 non-null  object\n",
      " 1   MUNICIPIO            168598 non-null  object\n",
      " 2   CODIGO DANE          168598 non-null  object\n",
      " 3   ARMAS MEDIOS         168583 non-null  object\n",
      " 4   FECHA HECHO          168598 non-null  object\n",
      " 5   MES                  168598 non-null  object\n",
      " 6   DIA                  168598 non-null  int64 \n",
      " 7   GENERO               168589 non-null  object\n",
      " 8   AGRUPA EDAD PERSONA  166577 non-null  object\n",
      " 9   CANTIDAD             168598 non-null  int64 \n",
      " 10  DELITO               168598 non-null  object\n",
      "dtypes: int64(2), object(9)\n",
      "memory usage: 14.1+ MB\n"
     ]
    }
   ],
   "source": [
    "\n",
    "print('delitos')\n",
    "print('Filas: ', df_delitos.shape[0])\n",
    "print('Columnas: ', df_delitos.shape[1])\n",
    "df_delitos.info()"
   ]
  },
  {
   "cell_type": "markdown",
   "metadata": {},
   "source": [
    "Se cuenta con una total de 168.598 registros y 11 columnas (Variables), de estas hay 4 de tipo numérico y 7 de tipo carácter, cabe aclarar que la información con la que se está desarrollando el proyecto corresponde a los delitos ocurridos a nivel departamental y municipal para el año 2020."
   ]
  },
  {
   "cell_type": "markdown",
   "metadata": {},
   "source": [
    "### Analísis de completitud:"
   ]
  },
  {
   "cell_type": "markdown",
   "metadata": {},
   "source": [
    "Se revisaron los valores y el porcentaje de datos faltantes para cada variable.\n",
    "Se puede observar que hay valores faltantes para las variables \"ARMAS MEDIOS\", \"GENERO\" y \"AGRUPA EDAD PERSONA\"."
   ]
  },
  {
   "cell_type": "code",
   "execution_count": 5,
   "metadata": {},
   "outputs": [
    {
     "name": "stdout",
     "output_type": "stream",
     "text": [
      "DEPARTAMENTO - 0.0% - 0\n",
      "MUNICIPIO - 0.0% - 0\n",
      "CODIGO DANE - 0.0% - 0\n",
      "ARMAS MEDIOS - 0.0089% - 15\n",
      "FECHA HECHO - 0.0% - 0\n",
      "MES - 0.0% - 0\n",
      "DIA - 0.0% - 0\n",
      "GENERO - 0.0053% - 9\n",
      "AGRUPA EDAD PERSONA - 1.1987% - 2021\n",
      "CANTIDAD - 0.0% - 0\n",
      "DELITO - 0.0% - 0\n"
     ]
    }
   ],
   "source": [
    "\n",
    "for col in df_delitos.columns:\n",
    "    num_missing = df_delitos[col].isnull().sum()\n",
    "    pct_missing = np.mean(df_delitos[col].isnull())\n",
    "    #print(col,\" - \",round(pct_missing*100, 2),\"% - \",num_missing)\n",
    "    print('{} - {}% - {}'.format(col,round(pct_missing*100, 4),num_missing))"
   ]
  },
  {
   "cell_type": "markdown",
   "metadata": {},
   "source": [
    "Se procedió a añadir etiquetas a los registros con datos faltantes, ya que bajo el contexto de la base de datos en algunas variables se presentaron casos donde no se reporta información en alguna variable en específico, pero para las demás variables si se cuenta con toda la información.\n",
    "\n",
    "Ahora reemplazamos los valores faltantes de cada variable por la nueva categoria que le asignaremos dependiendo de la varible.\n",
    "\n",
    "Para la variable \"Genero\" se reemplazaron los valores faltantes por \"NO APLICA”, a la variable \"ARMAS MEDIOS\" los valores faltantes se sustituyeron por la categoría \"NO REPORTADO\" y Para la variable \"AGRUPA EDAD PERSONA\" los valores faltantes se sustituyeron por la categoría \"NO APLICA\"."
   ]
  },
  {
   "cell_type": "code",
   "execution_count": 6,
   "metadata": {},
   "outputs": [],
   "source": [
    "df_delitos[\"GENERO\"]=df_delitos[\"GENERO\"].replace(np.nan, \"NO APLICA\")\n",
    "df_delitos[\"ARMAS MEDIOS\"]=df_delitos[\"ARMAS MEDIOS\"].replace(np.nan, \"NO REPORTADO\")\n",
    "df_delitos[\"AGRUPA EDAD PERSONA\"]=df_delitos[\"AGRUPA EDAD PERSONA\"].replace(np.nan, \"NO APLICA\")\n",
    "df_delitos1=df_delitos\n"
   ]
  },
  {
   "cell_type": "markdown",
   "metadata": {},
   "source": [
    "Se revisó la nueva base de datos y se puede observar que ya no existen registros con datos faltantes. "
   ]
  },
  {
   "cell_type": "code",
   "execution_count": 7,
   "metadata": {},
   "outputs": [
    {
     "name": "stdout",
     "output_type": "stream",
     "text": [
      "DEPARTAMENTO - 0.0% - 0\n",
      "MUNICIPIO - 0.0% - 0\n",
      "CODIGO DANE - 0.0% - 0\n",
      "ARMAS MEDIOS - 0.0% - 0\n",
      "FECHA HECHO - 0.0% - 0\n",
      "MES - 0.0% - 0\n",
      "DIA - 0.0% - 0\n",
      "GENERO - 0.0% - 0\n",
      "AGRUPA EDAD PERSONA - 0.0% - 0\n",
      "CANTIDAD - 0.0% - 0\n",
      "DELITO - 0.0% - 0\n"
     ]
    }
   ],
   "source": [
    "\n",
    "for col in df_delitos.columns:\n",
    "    num_missing = df_delitos[col].isnull().sum()\n",
    "    pct_missing = np.mean(df_delitos[col].isnull())\n",
    "    #print(col,\" - \",round(pct_missing*100, 2),\"% - \",num_missing)\n",
    "    print('{} - {}% - {}'.format(col,round(pct_missing*100, 4),num_missing))"
   ]
  },
  {
   "cell_type": "markdown",
   "metadata": {},
   "source": [
    "### Analisís de coherencia\n"
   ]
  },
  {
   "cell_type": "code",
   "execution_count": 8,
   "metadata": {},
   "outputs": [
    {
     "name": "stdout",
     "output_type": "stream",
     "text": [
      "(168598, 11)\n",
      "(105872, 11)\n",
      "Cantidad de duplicados 62726\n"
     ]
    }
   ],
   "source": [
    "df_dedupped_delitos = df_delitos.drop_duplicates()\n",
    "print(df_delitos.shape)\n",
    "print(df_dedupped_delitos.shape)\n",
    "print('Cantidad de duplicados',df_delitos.shape[0]-df_dedupped_delitos.shape[0])"
   ]
  },
  {
   "cell_type": "markdown",
   "metadata": {},
   "source": [
    "Si bien la base de datos delitos 2020 presenta un total de 62.724 datos duplicados, se debe aclarar que de acuerdo con la dinámica de los datos que se registran en la misma, se tienen hechos que pueden ser reportados en la misma fecha, lugar y que concuerden con las demás variables, para estos casos hace referencias a los hechos que sucedieron bajo un delito específico en un conjunto familiar o de víctimas que pueden ser dentro de la misma zona pero casos reportados diferentes, por tanto, no corresponden a datos duplicados si no que obedece a la dinámica propia del fenómeno y dado que no se tiene un ID que identifique la víctimas como tal sino son los casos reportados bajo un mismo o distinto ámbito situacional."
   ]
  },
  {
   "cell_type": "markdown",
   "metadata": {},
   "source": [
    "# VISUALIZACIONES\n"
   ]
  },
  {
   "cell_type": "markdown",
   "metadata": {},
   "source": [
    "### Modismo N° 1: Representación visual de los distintos delitos (delitos sexuales, homicidios y violencia intrafamiliar) respecto a la agrupación edad de las personas para el año 2020."
   ]
  },
  {
   "cell_type": "markdown",
   "metadata": {},
   "source": [
    "## Framework"
   ]
  },
  {
   "cell_type": "markdown",
   "metadata": {},
   "source": [
    "####  What?\n",
    "\n",
    "De acuerdo con el gráfico de barras siguiente, muestra los delitos por agrupación de edad; personas adultas, adolescentes y menores agregados por homicidios, violencia sexual y violencia intrafamiliar para el año 2020. De acuerdo con el tamaño de las barras se puede decir que las personas adultas son más vulnerables en delitos de violencia intrafamiliar que los menores, mientras que los menores son más vulnerables o reincidentes a estar afectados por delitos relacionados con violencia sexual que adolescentes y en menor medida en adultos. A partir del grafico se puede observar dos variables categóricas (agrupación edad de las personas y delitos) y la cantidad de delitos. Es un gráfico estático. Es a partir de un dataset tipo tabla con atributos (variables y categorías), no están ordenados, pero si agrupados y las barras están en función con la cantidad hechos por delito. El orden de la dirección de las barras es secuencial.\n",
    "\n",
    "####  Why?\n",
    "\n",
    "Se desea presentar lo que sucedió en el año 2020 en materia de delitos y en especial lo ocurrido en este año atípico dentro de los últimos 5 años, observando que tanto se han afectado los derechos humanos por agrupación de edad de las personas (adultos, menores y adolescentes) por los delitos de violencia intrafamiliar, violencia sexual y homicidios. Adicionalmente es poder descubrir y localizar donde están más enfocados ciertos delitos si en hombres o mujeres. La visualización intenta buscar estos sucesos en todos los hechos de delitos de 2020 para identificar hacia donde tienden a concentrarse los casos de delitos, se puede ver que los atributos (variables y categorías) están distribuidos de manera que se pueda conocer donde hay mayor afectación y a que agrupación edad de personas afecta más.\n",
    "\n",
    "####  How?\n",
    "\n",
    "Se utiliza el color para particionar y agrupar dentro de cada delito la cantidad de delitos por agrupación edad de las personas. El tipo de shape utilizado es de caja que en este caso particular son barras ubicadas de manera horizontal. también se puede hacer filtros de manera visual es decir si por delito que edad de personas son los más afectados y entre delitos se puede identificar quienes son los más vulnerables entre todos los delitos.\n",
    "\n",
    "#### Marcas y canales \n",
    "\n",
    "El elemento gráfico para visualizar los delitos por la agrupación edad persona está basada en líneas, es decir, el gráfico de barras de manera que el canal es de posición horizontal para los atributos categóricos.\n",
    "\n",
    "De acuerdo con el gráfico siguiente, la forma que controla la apariencia está ligada al color atributo a las variables categóricas, dado que los colores cambian de acuerdo con las categorías del delito y con base en la agrupación edad de las personas victimas por estos hechos. Desde la parte de la posición es de manera horizontal ya que permite leer de manera clara la etiqueta del delito si fuera vertical queda un poco sobrepuestas las etiquetas. El shape utilizado fueron cajas rectangulares más específicamente las barras, el tamaño está de acuerdo con la longitud, es decir, al atributo cuantitativo de la cantidad de hechos por los distintos delitos y agrupaciones edad persona.\n",
    "\n",
    "\n"
   ]
  },
  {
   "cell_type": "code",
   "execution_count": 9,
   "metadata": {},
   "outputs": [],
   "source": [
    "df_delitos.columns = ['DEPARTAMENTO', 'MUNICIPIO', 'CODIGO_DANE', 'ARMAS_MEDIOS', 'FECHA_HECHO',\"MES\",\"DIA\", 'GENERO',\"AGRUPA_EDAD_PERSONA\", \"CANTIDAD\", \"DELITO\"]\n",
    "df_delitos_mod = df_delitos[df_delitos.AGRUPA_EDAD_PERSONA.isin([\"ADOLESCENTES\", \"ADULTOS\", \"MENORES\"])]\n"
   ]
  },
  {
   "cell_type": "code",
   "execution_count": 10,
   "metadata": {},
   "outputs": [
    {
     "data": {
      "text/plain": [
       "Text(0.5, 1.0, 'Personas Agrupadas por Edad, Victimas de Delitos 2020')"
      ]
     },
     "execution_count": 10,
     "metadata": {},
     "output_type": "execute_result"
    },
    {
     "data": {
      "image/png": "[encoded data removed]",
      "text/plain": [
       "<Figure size 432x288 with 1 Axes>"
      ]
     },
     "metadata": {
      "needs_background": "light"
     },
     "output_type": "display_data"
    }
   ],
   "source": [
    "sns.barplot(data = df_delitos_mod,\n",
    "            estimator = sum,\n",
    "             palette = 'hls',\n",
    "            x = \"CANTIDAD\", \n",
    "            y = \"DELITO\",\n",
    "            hue = \"AGRUPA_EDAD_PERSONA\",\n",
    "            ci = None)\n",
    "plt.title ( 'Personas Agrupadas por Edad, Victimas de Delitos 2020' )"
   ]
  },
  {
   "cell_type": "markdown",
   "metadata": {},
   "source": [
    "### Modismo N° 2: Representación visual de los distintos grupos de edad (adultos, adolescentes y menores) respecto a la la agrupacion del mes de ocurrencia y discriminado por genero"
   ]
  },
  {
   "cell_type": "markdown",
   "metadata": {},
   "source": [
    "## Framework"
   ]
  },
  {
   "cell_type": "markdown",
   "metadata": {},
   "source": [
    "#### What?\n",
    "El grafico muestra la cantidad de víctimas de delitos durante el trascurso del año 2020 en Colombia, para esto se cuenta con tres variables categóricas y una ordenada cuantitativa. Respecto a las categóricas se encuentra la variable genero la cual esta discriminada entre masculino y femenino, también se tiene la variable edad la cual esta representada en tres categorías para las personas, estas son menores, adolescentes y personas adultas, además se tiene una variable categórica como son los meses del año. La variable cuantitativa hace referencia a la cantidad de victimas de delitos en Colombia para este año. Por ultimo se puede decir que los datos son de tipo tabla, ya que cuenta con cuatro atributos y diferentes ítems para representar la información.\n",
    "\n",
    "#### Why? \n",
    "En las acciones de esta grafica se encuentra el analizar y presentar ya que uno de los objetivos es mostrar el impacto de los delitos en cuanto al genero y las edades de las personas durante el trascurso del año 2020.  \n",
    "Por otro lado, respecto a las acciones de bajo y medio nivel, el grafico compara e identifica, ya que permite darse cuenta el género y rango de edad de las personas mas afectadas en los diferentes meses del año 2018.\n",
    "El objetivo de la visualización es mostrar las incidencias que pueden tener las variables genero rango de edad y los meses del año, identificando relaciones entre las variables, por ejemplo, se puede observar que las mujeres en edad adulta y durante todo el trascurso del año 2020 fueron las más afectadas por los diferentes delitos. Además, es posible identificar si ciertos meses del año son mas proclives a presentar casos de delincuencia\n",
    "\n",
    "#### How ?\n",
    "La visualización representa un grafico de barras discriminado entre el genero de las personas, ordenando en secuencia respecto a la variable meses y filtrando por la variable edad, con el fin de asociar cuatro variables como lo son género, mes, edad y cantidad de delitos presentados\n",
    "\n",
    "#### Marcas y canales\n",
    "Esta visualización presenta marca de líneas, en este caso son las barras además presenta un canal de posición vertical para representar de forma ordenada los meses del año, un canal de posición horizontal para representar la cantidad de victimas de los delitos y otro canal de posición horizontal para discriminar los datos entre género. \n",
    "Por ultimo se presenta un canal de color para identificar las tres categorías de la variable edad.\n"
   ]
  },
  {
   "cell_type": "code",
   "execution_count": 11,
   "metadata": {},
   "outputs": [],
   "source": [
    "df2  = df_delitos[df_delitos['GENERO'] == \"MASCULINO\"]\n",
    "df3  = df_delitos[df_delitos['GENERO'] == \"FEMENINO\"]\n",
    "df_delitos2 =  df2.append(df3)\n",
    "\n",
    "df4 = df_delitos2[df_delitos2[\"AGRUPA_EDAD_PERSONA\"] != \"NO APLICA\"]\n"
   ]
  },
  {
   "cell_type": "code",
   "execution_count": 15,
   "metadata": {},
   "outputs": [
    {
     "data": {
      "text/plain": [
       "<seaborn.axisgrid.FacetGrid at 0x279c0309a00>"
      ]
     },
     "execution_count": 15,
     "metadata": {},
     "output_type": "execute_result"
    },
    {
     "data": {
      "image/png": "[encoded data removed]",
      "text/plain": [
       "<Figure size 855x360 with 2 Axes>"
      ]
     },
     "metadata": {
      "needs_background": "light"
     },
     "output_type": "display_data"
    }
   ],
   "source": [
    "sns.catplot(data = df4,\n",
    "            kind = \"bar\",\n",
    "            estimator = sum,\n",
    "            x = \"CANTIDAD\",\n",
    "            y = \"MES\",\n",
    "            hue = \"AGRUPA_EDAD_PERSONA\",\n",
    "            col = \"GENERO\",           \n",
    "            palette = 'husl',\n",
    "            ci = None)\n",
    "\n"
   ]
  },
  {
   "cell_type": "markdown",
   "metadata": {},
   "source": [
    "### Modismo N° 3: Representación visual del porcentajes de delitos por genero y tipo de delito(delitos sexuales, homicidios y violencia intrafamiliar) para el año 2020."
   ]
  },
  {
   "cell_type": "markdown",
   "metadata": {},
   "source": [
    "## Framework"
   ]
  },
  {
   "cell_type": "markdown",
   "metadata": {},
   "source": [
    "#### What?\n",
    "Esta gráfica corresponde a un dataset tipo tabla con items y atributos, utiliza dos variables categóricas (Género y tipo de delitos)  y una cuantitativa secuencial (Cantidad de delitos)  expresada en porcentaje adicionalmente es un gráfico estático.\n",
    "\n",
    "#### Why?\n",
    "\n",
    "**Verbo:** Esta visualización pretende presentar y explicar  la gravedad de  tres tipos de delito (Delitos sexuales, Homicidios y Violencia intrafamiliar) con respecto al género de las víctimas ( Femenino y Masculino) para el año 2020 a nivel general en Colombia (Ubicación conocida por el usuario), el gráficos es de tipo comparativo puesto que lo que se intenta mostrar es que el género  más afectado por cada delito.\n",
    "\n",
    "**Sustantivo:** La visualización tiene como objetivo mostrar la comparación del maltrato de género de acuerdo al tipo de delito. Para los delitos sexuales y violencia intrafamiliar  sabemos previamente que  las mujeres  tienden a ser la más afectada y el gráfico afirma que es así, sobretodo para 2020 que fue un año de cuarentenas recurrentes y para los homicidios se tiene que los hombres son los más afectados.\n",
    "\n",
    "#### How?\n",
    "Es un gráfico de barras que separa las categorías de delitos y género, utilizando la frecuencia o número de delitos cometidos por cada tipo, por medio de un filtro de los tipos de delito y el género se obtiene los datos necesarios para llevar a cabo el BarPlot.\n",
    "\n",
    "#### Marcas y canales\n",
    "Esta  visualización utiliza marca de línea que en este caso son las barras, un canal de posición que es vertical de acuerdo a  la variable cuantitativa (Cantidad de delitos) y para la variables categóricas (Género y tipo de delito) se utiliza el canal de posición horizontal.\n"
   ]
  },
  {
   "cell_type": "code",
   "execution_count": 30,
   "metadata": {},
   "outputs": [
    {
     "data": {
      "text/html": [
       "<div>\n",
       "<style scoped>\n",
       "    .dataframe tbody tr th:only-of-type {\n",
       "        vertical-align: middle;\n",
       "    }\n",
       "\n",
       "    .dataframe tbody tr th {\n",
       "        vertical-align: top;\n",
       "    }\n",
       "\n",
       "    .dataframe thead th {\n",
       "        text-align: right;\n",
       "    }\n",
       "</style>\n",
       "<table border=\"1\" class=\"dataframe\">\n",
       "  <thead>\n",
       "    <tr style=\"text-align: right;\">\n",
       "      <th></th>\n",
       "      <th>DELITO</th>\n",
       "      <th>GENERO</th>\n",
       "      <th>DELITOS(%)</th>\n",
       "    </tr>\n",
       "  </thead>\n",
       "  <tbody>\n",
       "    <tr>\n",
       "      <th>0</th>\n",
       "      <td>DELITOS SEXUALES</td>\n",
       "      <td>FEMENINO</td>\n",
       "      <td>84.09</td>\n",
       "    </tr>\n",
       "    <tr>\n",
       "      <th>1</th>\n",
       "      <td>DELITOS SEXUALES</td>\n",
       "      <td>MASCULINO</td>\n",
       "      <td>15.91</td>\n",
       "    </tr>\n",
       "    <tr>\n",
       "      <th>3</th>\n",
       "      <td>HOMICIDIOS</td>\n",
       "      <td>FEMENINO</td>\n",
       "      <td>8.00</td>\n",
       "    </tr>\n",
       "    <tr>\n",
       "      <th>4</th>\n",
       "      <td>HOMICIDIOS</td>\n",
       "      <td>MASCULINO</td>\n",
       "      <td>92.00</td>\n",
       "    </tr>\n",
       "    <tr>\n",
       "      <th>6</th>\n",
       "      <td>VIOLENCIA INTRAFAMILIAR</td>\n",
       "      <td>FEMENINO</td>\n",
       "      <td>77.87</td>\n",
       "    </tr>\n",
       "    <tr>\n",
       "      <th>7</th>\n",
       "      <td>VIOLENCIA INTRAFAMILIAR</td>\n",
       "      <td>MASCULINO</td>\n",
       "      <td>22.12</td>\n",
       "    </tr>\n",
       "  </tbody>\n",
       "</table>\n",
       "</div>"
      ],
      "text/plain": [
       "                    DELITO     GENERO  DELITOS(%)\n",
       "0         DELITOS SEXUALES   FEMENINO       84.09\n",
       "1         DELITOS SEXUALES  MASCULINO       15.91\n",
       "3               HOMICIDIOS   FEMENINO        8.00\n",
       "4               HOMICIDIOS  MASCULINO       92.00\n",
       "6  VIOLENCIA INTRAFAMILIAR   FEMENINO       77.87\n",
       "7  VIOLENCIA INTRAFAMILIAR  MASCULINO       22.12"
      ]
     },
     "execution_count": 30,
     "metadata": {},
     "output_type": "execute_result"
    }
   ],
   "source": [
    "\n",
    "df = (df_delitos.groupby([\"DELITO\", \"GENERO\"])[\"CANTIDAD\"].count()\n",
    "        .groupby(level=0)\n",
    "        .apply(lambda x:round( x / x.sum()*100,2))\n",
    "        .reset_index(name='DELITOS(%)'))\n",
    "\n",
    "df1=df.drop([2,5,8],axis=0)\n",
    "df1"
   ]
  },
  {
   "cell_type": "code",
   "execution_count": 44,
   "metadata": {},
   "outputs": [
    {
     "data": {
      "image/png": "[encoded data removed]",
      "text/plain": [
       "<Figure size 504x432 with 1 Axes>"
      ]
     },
     "metadata": {
      "needs_background": "light"
     },
     "output_type": "display_data"
    }
   ],
   "source": [
    "# grafico (Modismo I)\n",
    "\n",
    "# grafico (Modismo I)\n",
    "\n",
    "md1=sns.barplot(x=\"DELITO\", y=\"DELITOS(%)\", hue=\"GENERO\",data=df1,palette=\"hls\",ci=\"None\")\n",
    "md1.set_title(\"Delitos por tipo y género\")\n",
    "md1.set_xlabel(\"Tipos de delito\")\n",
    "plt.rcParams[\"figure.figsize\"] = (7, 6)\n",
    "plt.show()"
   ]
  }
 ],
 "metadata": {
  "kernelspec": {
   "display_name": "Python 3",
   "language": "python",
   "name": "python3"
  },
  "language_info": {
   "codemirror_mode": {
    "name": "ipython",
    "version": 3
   },
   "file_extension": ".py",
   "mimetype": "text/x-python",
   "name": "python",
   "nbconvert_exporter": "python",
   "pygments_lexer": "ipython3",
   "version": "3.8.5"
  }
 },
 "nbformat": 4,
 "nbformat_minor": 4
}
